{
 "cells": [
  {
   "cell_type": "markdown",
   "source": [
    "# Chicago Red Light Cameras Pyolite Notebook 📓\r\n",
    "\r\n",
    "Data Source: [Chicago Transportation](https://data.cityofchicago.org/browse?category=Transportation)/[Red Light Camera Locations](https://data.cityofchicago.org/Transportation/Red-Light-Camera-Locations/thvf-6diy)"
   ],
   "metadata": {}
  },
  {
   "cell_type": "code",
   "execution_count": null,
   "source": [
    "from js import fetch\r\n",
    "response = await fetch('https://raw.githubusercontent.com/RandomFractals/vscode-leaflet/main/data/geojson/chicago-red-light-cameras.geojson')\r\n",
    "geoJson = await response.text()\r\n",
    "geoJson"
   ],
   "outputs": [],
   "metadata": {}
  }
 ],
 "metadata": {
  "orig_nbformat": 4,
  "language_info": {
   "name": "python"
  }
 },
 "nbformat": 4,
 "nbformat_minor": 2
}