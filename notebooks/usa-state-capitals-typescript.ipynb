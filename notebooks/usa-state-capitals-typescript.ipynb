{
 "cells": [
  {
   "cell_type": "markdown",
   "source": [
    "# USA State Capitals TypeScript Notebook 📓"
   ],
   "metadata": {}
  },
  {
   "cell_type": "code",
   "execution_count": null,
   "source": [
    "import fs from 'fs';\r\n",
    "const geoJson = fs.readFileSync('../data/geojson/usa-state-capitals.geojson', 'utf-8');\r\n",
    "geoJson"
   ],
   "outputs": [],
   "metadata": {}
  }
 ],
 "metadata": {
  "orig_nbformat": 4,
  "language_info": {
   "name": "typescript",
   "version": "3.7.2",
   "mimetype": "text/typescript",
   "file_extension": ".ts",
   "codemirror_mode": {
    "mode": "typescript",
    "name": "javascript",
    "typescript": true
   }
  },
  "kernelspec": {
   "name": "typescript",
   "display_name": "TypeScript",
   "language": "typescript"
  }
 },
 "nbformat": 4,
 "nbformat_minor": 2
}